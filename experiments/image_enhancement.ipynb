{
 "cells": [
  {
   "cell_type": "markdown",
   "metadata": {},
   "source": [
    "# Image Enhancement\n",
    "In this notebook we use i.a. Regularised Diffusion-Shock (RDS) filtering on $\\mathbb{M}_2$ to denoise images corrupted by correlated white noise, as in Section 5.1 of [\"Diffusion-Shock Filtering on the Space of Positions and Orientations\"]()."
   ]
  },
  {
   "cell_type": "code",
   "execution_count": null,
   "metadata": {},
   "outputs": [],
   "source": [
    "import taichi as ti\n",
    "ti.init(arch=ti.gpu, debug=False, device_memory_GB=3.5)\n",
    "import numpy as np\n",
    "from PIL import Image\n",
    "from dsfilter import (\n",
    "    DS_enhancing_LI,\n",
    "    DS_enhancing_gauge,\n",
    "    DS_enhancing_R2,\n",
    "    TV_enhancing_LI,\n",
    "    TV_enhancing_gauge\n",
    ")\n",
    "from dsfilter.M2.utils import (\n",
    "    align_to_real_axis_scalar_field,\n",
    "    align_to_standard_array_axis_scalar_field,\n",
    "    coordinate_array_to_real,\n",
    "    vectorfield_static_to_LI_np\n",
    ")\n",
    "from dsfilter.orientationscore import (\n",
    "    cakewavelet_stack,\n",
    "    wavelet_transform\n",
    ")\n",
    "from dsfilter.M2.gauge.frame import compute_gauge_frame_and_orientation_confidence\n",
    "from dsfilter.visualisations import plot_image_array\n",
    "from bm3d import bm3d\n",
    "from skimage.restoration import denoise_nl_means\n",
    "from tqdm import tqdm\n",
    "import matplotlib.pyplot as plt"
   ]
  },
  {
   "cell_type": "markdown",
   "metadata": {},
   "source": [
    "## Test Cases\n",
    "In the paper, we denoise two images corrupted with correlated noise \n",
    "$$K_\\rho * n_\\sigma,$$\n",
    "where $K_\\rho$ is a Gaussian with standard deviation $\\rho$ and $n_\\sigma$ is white noise with intensity $\\sigma$, namely\n",
    "* [Retina](.\\\\data\\\\retina.tif) (Fig. 4), corrupted with $\\sigma = 127.5$, $\\rho = 2$, and\n",
    "* [Spiral](.\\\\data\\\\spiral.tif) (Fig. 5), corrupted with $\\sigma = 255$, $\\rho = 2$.\n",
    "\n",
    "One must first use the notebook [\"make_noisy_images.ipynb\"](.\\\\make_noisy_images.ipynb) to generate the corrupted images from the ground truth. One can of course also generate images with other noise profiles."
   ]
  },
  {
   "cell_type": "code",
   "execution_count": null,
   "metadata": {},
   "outputs": [],
   "source": [
    "# \"retina\" \"spiral\"\n",
    "test_case = \"spiral\"\n",
    "σ_noise = 255. * 1.\n",
    "ρ_noise = 2.\n",
    "storage_name = f\"{test_case}_{σ_noise:.0f}_{ρ_noise:.0f}\""
   ]
  },
  {
   "cell_type": "markdown",
   "metadata": {},
   "source": [
    "### Parameters & Setup\n",
    "These parameters we keep the same for all experiments:"
   ]
  },
  {
   "cell_type": "code",
   "execution_count": null,
   "metadata": {},
   "outputs": [],
   "source": [
    "dim_K = 16 # Number of orientations.\n",
    "ξ = 0.1 # Stiffness parameter for gauge frames.\n",
    "\n",
    "# RDS Parameters\n",
    "## R2\n",
    "λ_R2 = 10.\n",
    "ε_R2 = λ_R2 * 0.15\n",
    "## M2\n",
    "λ_M2 = 0.5\n",
    "ε_M2 = 165.\n",
    "ζ_D = 1. # Spatial anisotropy in the diffusion.\n",
    "ζ_S = 0.5 # Spatial anisotropy in the shock.\n",
    "### (Dual) metric tensor fields.\n",
    "G_D_inv_gauge = np.array((1., ζ_D**2, ζ_D**2))\n",
    "G_S_inv_gauge = np.array((1., ζ_S**2, ζ_S**2))\n",
    "G_D_inv = np.array((ξ**-2, (ζ_D / ξ)**2, ζ_D**2))\n",
    "G_S_inv = np.array((ξ**-2, (ζ_S / ξ)**2, ζ_S**2))\n",
    "\n",
    "# TR-TV Parameters\n",
    "λ_TV = 50. / 255.\n",
    "### (Dual) metric tensor fields.\n",
    "ζ = 1.\n",
    "G_TV_inv_gauge = np.array((1., ζ**2, ζ**2))\n",
    "G_TV_inv = np.array((ξ**-2, (ζ/ξ)**2, ζ**2))"
   ]
  },
  {
   "cell_type": "markdown",
   "metadata": {},
   "source": [
    "We need different regularisation scales and stopping times depending on the underlying image."
   ]
  },
  {
   "cell_type": "code",
   "execution_count": null,
   "metadata": {},
   "outputs": [],
   "source": [
    "match test_case:\n",
    "    case \"retina\":\n",
    "        # RDS Parameters\n",
    "        σ = 0.2\n",
    "        ρ = 0.2\n",
    "        ν = 0.2\n",
    "        ## R2\n",
    "        t_DS_R2 = 30.\n",
    "        ## M2\n",
    "        t_DS_M2 = 1.\n",
    "        # TR-TV Parameters\n",
    "        t_TV = 0.25\n",
    "        # NLM Parameters\n",
    "        σ_max_nlm = 50.\n",
    "        σ_step_nlm = 1.\n",
    "        # BM3D Parameters\n",
    "        σ_max_bm3d = 200\n",
    "        σ_step_bm3d = 5.\n",
    "\n",
    "        # Plotting.\n",
    "        im_width = 6\n",
    "        im_height = 5\n",
    "    case \"spiral\":\n",
    "        # RDS Parameters\n",
    "        σ = 0.2\n",
    "        ρ = 1.9\n",
    "        ν = 2.1\n",
    "        ## R2\n",
    "        t_DS_R2 = 15.\n",
    "        ## M2\n",
    "        t_DS_M2 = 2.\n",
    "        # TR-TV Parameters\n",
    "        t_TV = 0.25\n",
    "        # NLM Parameters\n",
    "        σ_max_nlm = 100.\n",
    "        σ_step_nlm = 2.\n",
    "        # BM3D Parameters\n",
    "        σ_max_bm3d = 250.\n",
    "        σ_step_bm3d = 10.\n",
    "\n",
    "        # Plotting.\n",
    "        im_width = 9\n",
    "        im_height = 5\n",
    "\n",
    "σs_nlm = np.arange(0., σ_max_nlm, σ_step_nlm)\n",
    "σs_bm3d = np.arange(0., σ_max_bm3d, σ_step_bm3d)\n",
    "\n",
    "# Load image\n",
    "ground_truth = align_to_real_axis_scalar_field(np.array(Image.open(f\"data/{test_case}.tif\").convert(\"L\")).astype(np.float64))\n",
    "noisy = align_to_real_axis_scalar_field(np.array(Image.open(f\"data/{test_case}_{σ_noise:.0f}_{ρ_noise:.0f}.tif\")).astype(np.float64))"
   ]
  },
  {
   "cell_type": "code",
   "execution_count": null,
   "metadata": {},
   "outputs": [],
   "source": [
    "clip = (0., 255.)\n",
    "\n",
    "dim_I, dim_J = ground_truth.shape\n",
    "Is, Js, Ks = np.indices((dim_I, dim_J, dim_K))\n",
    "x_min, x_max = 0., dim_I - 1.\n",
    "y_min, y_max = 0., dim_J - 1.\n",
    "θ_min, θ_max = 0., 2 * np.pi\n",
    "dxy = (x_max - x_min) / (dim_I - 1)\n",
    "dθ = (θ_max - θ_min) / dim_K\n",
    "xs, ys, θs = coordinate_array_to_real(Is, Js, Ks, x_min, y_min, θ_min, dxy, dθ)"
   ]
  },
  {
   "cell_type": "code",
   "execution_count": null,
   "metadata": {},
   "outputs": [],
   "source": [
    "fig, ax = plt.subplots(1, 2, figsize=(2 * im_width, im_height))\n",
    "_, _, cbar = plot_image_array(ground_truth, 0., dim_I - 1., 0., dim_J - 1., fig=fig, ax=ax[0])\n",
    "fig.colorbar(cbar, ax=ax[0])\n",
    "_, _, cbar = plot_image_array(noisy, 0., dim_I - 1., 0., dim_J - 1., fig=fig, ax=ax[1])\n",
    "fig.colorbar(cbar, ax=ax[1]);"
   ]
  },
  {
   "cell_type": "markdown",
   "metadata": {},
   "source": [
    "### Quality Metrics"
   ]
  },
  {
   "cell_type": "code",
   "execution_count": null,
   "metadata": {},
   "outputs": [],
   "source": [
    "def PSNR(denoised, ground_truth, max=255.):\n",
    "    return 10 * np.log10(max**2 / np.mean((denoised - ground_truth)**2))\n",
    "\n",
    "def L2(denoised, ground_truth):\n",
    "    return np.sqrt(((denoised - ground_truth)**2).mean())\n",
    "\n",
    "def L1(denoised, ground_truth):\n",
    "    return np.abs(denoised - ground_truth).mean()"
   ]
  },
  {
   "cell_type": "markdown",
   "metadata": {},
   "source": [
    "## Orientation Score"
   ]
  },
  {
   "cell_type": "code",
   "execution_count": null,
   "metadata": {},
   "outputs": [],
   "source": [
    "cws = cakewavelet_stack(min(dim_I, dim_J), dim_K, inflection_point=0.95, Gaussian_σ=dim_I/12).real\n",
    "U = wavelet_transform(noisy, cws).real\n",
    "U = np.transpose(U, axes=(1, 2, 0)) # x, y, θ\n",
    "mask = np.zeros_like(U) # Filtering, so there is no region outside of the mask"
   ]
  },
  {
   "cell_type": "code",
   "execution_count": null,
   "metadata": {},
   "outputs": [],
   "source": [
    "K = 0\n",
    "fig, ax = plt.subplots(2, 2, figsize=(2 * im_width, 2 * im_height))\n",
    "_, _, cbar = plot_image_array(cws[K], x_min, x_max, y_min, y_max, fig=fig, ax=ax[0, 0])\n",
    "ax[0, 0].set_title(f\"Cake wavelet θ = {K * dθ:.2f}\") \n",
    "fig.colorbar(cbar, ax=ax[0, 0])\n",
    "_, _, cbar = plot_image_array(U[..., K], x_min, x_max, y_min, y_max, fig=fig, ax=ax[0, 1])\n",
    "ax[0, 1].set_title(f\"Orientation score θ = {K * dθ:.2f}\") \n",
    "fig.colorbar(cbar, ax=ax[0, 1])\n",
    "_, _, cbar = plot_image_array(noisy, x_min, x_max, y_min, y_max, fig=fig, ax=ax[1, 0], clip=clip)\n",
    "ax[1, 0].set_title(\"Noisy Image\")\n",
    "fig.colorbar(cbar, ax=ax[1, 0])\n",
    "_, _, cbar = plot_image_array(U.sum(-1), x_min, x_max, y_min, y_max, fig=fig, ax=ax[1, 1], clip=clip)\n",
    "ax[1, 1].set_title(\"Reconstruction\")\n",
    "fig.colorbar(cbar, ax=ax[1, 1]);"
   ]
  },
  {
   "cell_type": "markdown",
   "metadata": {},
   "source": [
    "### Gauge Frames"
   ]
  },
  {
   "cell_type": "code",
   "execution_count": null,
   "metadata": {},
   "outputs": [],
   "source": [
    "B1_LI, B2_LI, B3_LI, _ = compute_gauge_frame_and_orientation_confidence(U, dxy, dθ, θs, ξ, ρ_s=1.5)\n",
    "B1_static = vectorfield_static_to_LI_np(B1_LI, θs)\n",
    "B2_static = vectorfield_static_to_LI_np(B2_LI, θs)\n",
    "B3_static = vectorfield_static_to_LI_np(B3_LI, θs)\n",
    "gauge_frame_static = (B1_static, B2_static, B3_static)"
   ]
  },
  {
   "cell_type": "markdown",
   "metadata": {},
   "source": [
    "## Perform Filtering"
   ]
  },
  {
   "cell_type": "markdown",
   "metadata": {},
   "source": [
    "### RDS"
   ]
  },
  {
   "cell_type": "markdown",
   "metadata": {},
   "source": [
    "#### Left-Invariant"
   ]
  },
  {
   "cell_type": "code",
   "execution_count": null,
   "metadata": {},
   "outputs": [],
   "source": [
    "# First solve for long stopping time to find optimum in terms of PSNR.\n",
    "_, PSNRs_DS_LI, L2s_DS_LI, L1s_DS_LI = DS_enhancing_LI(U, ground_truth, θs, ξ, t_DS_M2, G_D_inv, G_S_inv, σ, ρ, ν, λ_M2, ε=ε_M2, dxy=dxy)\n",
    "t_opt_DS_LI = t_DS_M2 * max(PSNRs_DS_LI.argmax(), 1) / PSNRs_DS_LI.shape[0]\n",
    "# Result at optimal stopping time.\n",
    "U_DS_LI, _, _, _ = DS_enhancing_LI(U, ground_truth, θs, ξ, t_opt_DS_LI, G_D_inv, G_S_inv, σ, ρ, ν, λ_M2, ε=ε_M2, dxy=dxy)"
   ]
  },
  {
   "cell_type": "code",
   "execution_count": null,
   "metadata": {},
   "outputs": [],
   "source": [
    "fig, ax = plt.subplots(1, 3, figsize=(15, 5))\n",
    "ax[0].plot(PSNRs_DS_LI)\n",
    "ax[1].plot(L2s_DS_LI)\n",
    "ax[2].plot(L1s_DS_LI);"
   ]
  },
  {
   "cell_type": "code",
   "execution_count": null,
   "metadata": {},
   "outputs": [],
   "source": [
    "fig, ax = plt.subplots(2, 2, figsize=(2 * im_width, 2 * im_height))\n",
    "_, _, cbar = plot_image_array(ground_truth, x_min, x_max, y_min, y_max, fig=fig, ax=ax[0, 0])\n",
    "ax[0, 0].set_title(\"Ground Truth\")\n",
    "fig.colorbar(cbar, ax=ax[0, 0])\n",
    "_, _, cbar = plot_image_array(noisy, x_min, x_max, y_min, y_max, fig=fig, ax=ax[0, 1])\n",
    "ax[0, 1].set_title(\"Noisy\")\n",
    "fig.colorbar(cbar, ax=ax[0, 1])\n",
    "_, _, cbar = plot_image_array(U_DS_LI.sum(-1), x_min, x_max, y_min, y_max, clip=clip, fig=fig, ax=ax[1, 0])\n",
    "ax[1, 0].set_title(\"Denoised\")\n",
    "fig.colorbar(cbar, ax=ax[1, 0])\n",
    "_, _, cbar = plot_image_array(ground_truth - np.clip(U_DS_LI.sum(-1), *clip), x_min, x_max, y_min, y_max, fig=fig, ax=ax[1, 1])\n",
    "fig.colorbar(cbar, ax=ax[1, 1])\n",
    "ax[1, 1].set_title(\"Error\");"
   ]
  },
  {
   "cell_type": "markdown",
   "metadata": {},
   "source": [
    "#### Gauge"
   ]
  },
  {
   "cell_type": "code",
   "execution_count": null,
   "metadata": {},
   "outputs": [],
   "source": [
    "# First solve for long stopping time to find optimum in terms of PSNR.\n",
    "_, PSNRs_DS_gauge, L2s_DS_gauge, L1s_DS_gauge = DS_enhancing_gauge(U, ground_truth, θs, ξ, gauge_frame_static, t_DS_M2, G_D_inv_gauge, G_S_inv_gauge, σ, ρ, ν, λ_M2, ε=ε_M2, dxy=dxy)\n",
    "t_opt_DS_gauge = t_DS_M2 * max(PSNRs_DS_gauge.argmax(), 1) / PSNRs_DS_gauge.shape[0]\n",
    "# Result at optimal stopping time.\n",
    "U_DS_gauge, _, _, _ = DS_enhancing_gauge(U, ground_truth, θs, ξ, gauge_frame_static, t_opt_DS_gauge, G_D_inv_gauge, G_S_inv_gauge, σ, ρ, ν, λ_M2, ε=ε_M2, dxy=dxy)"
   ]
  },
  {
   "cell_type": "code",
   "execution_count": null,
   "metadata": {},
   "outputs": [],
   "source": [
    "fig, ax = plt.subplots(1, 3, figsize=(15, 5))\n",
    "ax[0].plot(PSNRs_DS_gauge)\n",
    "ax[1].plot(L2s_DS_gauge)\n",
    "ax[2].plot(L1s_DS_gauge);"
   ]
  },
  {
   "cell_type": "code",
   "execution_count": null,
   "metadata": {},
   "outputs": [],
   "source": [
    "fig, ax = plt.subplots(2, 2, figsize=(2 * im_width, 2 * im_height))\n",
    "_, _, cbar = plot_image_array(ground_truth, x_min, x_max, y_min, y_max, fig=fig, ax=ax[0, 0])\n",
    "ax[0, 0].set_title(\"Ground Truth\")\n",
    "fig.colorbar(cbar, ax=ax[0, 0])\n",
    "_, _, cbar = plot_image_array(noisy, x_min, x_max, y_min, y_max, fig=fig, ax=ax[0, 1])\n",
    "ax[0, 1].set_title(\"Noisy\")\n",
    "fig.colorbar(cbar, ax=ax[0, 1])\n",
    "_, _, cbar = plot_image_array(U_DS_gauge.sum(-1), x_min, x_max, y_min, y_max, clip=clip, fig=fig, ax=ax[1, 0])\n",
    "ax[1, 0].set_title(\"Denoised\")\n",
    "fig.colorbar(cbar, ax=ax[1, 0])\n",
    "_, _, cbar = plot_image_array(ground_truth - np.clip(U_DS_gauge.sum(-1), *clip), x_min, x_max, y_min, y_max, fig=fig, ax=ax[1, 1])\n",
    "fig.colorbar(cbar, ax=ax[1, 1])\n",
    "ax[1, 1].set_title(\"Error\");"
   ]
  },
  {
   "cell_type": "markdown",
   "metadata": {},
   "source": [
    "#### $\\mathbb{R}^2$"
   ]
  },
  {
   "cell_type": "code",
   "execution_count": null,
   "metadata": {},
   "outputs": [],
   "source": [
    "# First solve for long stopping time to find optimum in terms of PSNR.\n",
    "_, PSNRs_DS_R2, L2s_DS_R2, L1s_DS_R2 = DS_enhancing_R2(noisy, ground_truth, t_DS_R2, σ, ρ, ν, λ_R2, ε=ε_R2, dxy=dxy)\n",
    "t_opt_DS_R2 = t_DS_R2 * max(PSNRs_DS_R2.argmax(), 1) / PSNRs_DS_R2.shape[0]\n",
    "# Result at optimal stopping time.\n",
    "u_DS_R2, _, _, _ = DS_enhancing_R2(noisy, ground_truth, t_opt_DS_R2, σ, ρ, ν, λ_R2, ε=ε_R2, dxy=dxy)"
   ]
  },
  {
   "cell_type": "code",
   "execution_count": null,
   "metadata": {},
   "outputs": [],
   "source": [
    "fig, ax = plt.subplots(1, 3, figsize=(15, 5))\n",
    "ax[0].plot(PSNRs_DS_R2)\n",
    "ax[1].plot(L2s_DS_R2)\n",
    "ax[2].plot(L1s_DS_R2);"
   ]
  },
  {
   "cell_type": "code",
   "execution_count": null,
   "metadata": {},
   "outputs": [],
   "source": [
    "fig, ax = plt.subplots(2, 2, figsize=(2 * im_width, 2 * im_height))\n",
    "_, _, cbar = plot_image_array(ground_truth, x_min, x_max, y_min, y_max, fig=fig, ax=ax[0, 0])\n",
    "ax[0, 0].set_title(\"Ground Truth\")\n",
    "fig.colorbar(cbar, ax=ax[0, 0])\n",
    "_, _, cbar = plot_image_array(noisy, x_min, x_max, y_min, y_max, fig=fig, ax=ax[0, 1])\n",
    "ax[0, 1].set_title(\"Noisy\")\n",
    "fig.colorbar(cbar, ax=ax[0, 1])\n",
    "_, _, cbar = plot_image_array(u_DS_R2, x_min, x_max, y_min, y_max, clip=clip, fig=fig, ax=ax[1, 0])\n",
    "ax[1, 0].set_title(\"Denoised\")\n",
    "fig.colorbar(cbar, ax=ax[1, 0])\n",
    "_, _, cbar = plot_image_array(ground_truth - np.clip(u_DS_R2, *clip), x_min, x_max, y_min, y_max, fig=fig, ax=ax[1, 1])\n",
    "fig.colorbar(cbar, ax=ax[1, 1])\n",
    "ax[1, 1].set_title(\"Error\");"
   ]
  },
  {
   "cell_type": "markdown",
   "metadata": {},
   "source": [
    "### TR-TV Flow"
   ]
  },
  {
   "cell_type": "markdown",
   "metadata": {},
   "source": [
    "#### Left-Invariant"
   ]
  },
  {
   "cell_type": "code",
   "execution_count": null,
   "metadata": {},
   "outputs": [],
   "source": [
    "# First solve for long stopping time to find optimum in terms of PSNR.\n",
    "_, PSNRs_TV_LI, L2s_TV_LI, L1s_TV_LI = TV_enhancing_LI(U, ground_truth, np.array((ξ**-2, (ζ / ξ)**2, 1.)), dxy, dθ, θs, 1., 0.5, t_TV, λ=λ_TV)\n",
    "t_opt_TV_LI = t_TV * max(PSNRs_TV_LI.argmax(), 1) / PSNRs_TV_LI.shape[0]\n",
    "# Result at optimal stopping time.\n",
    "U_TV_LI, _, _, _ = TV_enhancing_LI(U, ground_truth, np.array((ξ**-2, (ζ / ξ)**2, 1.)), dxy, dθ, θs, 1., 0.5, t_opt_TV_LI, λ=λ_TV)"
   ]
  },
  {
   "cell_type": "code",
   "execution_count": null,
   "metadata": {},
   "outputs": [],
   "source": [
    "fig, ax = plt.subplots(1, 3, figsize=(15, 5))\n",
    "ax[0].plot(PSNRs_TV_LI)\n",
    "ax[1].plot(L2s_TV_LI)\n",
    "ax[2].plot(L1s_TV_LI);"
   ]
  },
  {
   "cell_type": "code",
   "execution_count": null,
   "metadata": {},
   "outputs": [],
   "source": [
    "fig, ax = plt.subplots(2, 2, figsize=(2 * im_width, 2 * im_height))\n",
    "_, _, cbar = plot_image_array(ground_truth, x_min, x_max, y_min, y_max, fig=fig, ax=ax[0, 0])\n",
    "ax[0, 0].set_title(\"Ground Truth\")\n",
    "fig.colorbar(cbar, ax=ax[0, 0])\n",
    "_, _, cbar = plot_image_array(noisy, x_min, x_max, y_min, y_max, fig=fig, ax=ax[0, 1])\n",
    "ax[0, 1].set_title(\"Noisy\")\n",
    "fig.colorbar(cbar, ax=ax[0, 1])\n",
    "_, _, cbar = plot_image_array(U_TV_LI.sum(-1), x_min, x_max, y_min, y_max, clip=clip, fig=fig, ax=ax[1, 0])\n",
    "ax[1, 0].set_title(\"Denoised\")\n",
    "fig.colorbar(cbar, ax=ax[1, 0])\n",
    "_, _, cbar = plot_image_array(ground_truth - np.clip(U_TV_LI.sum(-1), *clip), x_min, x_max, y_min, y_max, fig=fig, ax=ax[1, 1])\n",
    "fig.colorbar(cbar, ax=ax[1, 1])\n",
    "ax[1, 1].set_title(\"Error\");"
   ]
  },
  {
   "cell_type": "markdown",
   "metadata": {},
   "source": [
    "#### Gauge"
   ]
  },
  {
   "cell_type": "code",
   "execution_count": null,
   "metadata": {},
   "outputs": [],
   "source": [
    "# First solve for long stopping time to find optimum in terms of PSNR.\n",
    "_, PSNRs_TV_gauge, L2s_TV_gauge, L1s_TV_gauge = TV_enhancing_gauge(U, ground_truth, np.array((1., ζ**2, 1.)), ξ, dxy, dθ, gauge_frame_static, 1., 0.5, t_TV, λ=λ_TV)\n",
    "t_opt_TV_gauge = t_TV * max(PSNRs_TV_gauge.argmax(), 1) / PSNRs_TV_gauge.shape[0]\n",
    "# Result at optimal stopping time.\n",
    "U_TV_gauge, _, _, _ = TV_enhancing_gauge(U, ground_truth, np.array((1., ζ**-2, 1.)), ξ, dxy, dθ, gauge_frame_static, 1., 0.5, t_opt_TV_gauge, λ=λ_TV)"
   ]
  },
  {
   "cell_type": "code",
   "execution_count": null,
   "metadata": {},
   "outputs": [],
   "source": [
    "fig, ax = plt.subplots(1, 3, figsize=(15, 5))\n",
    "ax[0].plot(PSNRs_TV_gauge)\n",
    "ax[1].plot(L2s_TV_gauge)\n",
    "ax[2].plot(L1s_TV_gauge);"
   ]
  },
  {
   "cell_type": "code",
   "execution_count": null,
   "metadata": {},
   "outputs": [],
   "source": [
    "fig, ax = plt.subplots(2, 2, figsize=(2 * im_width, 2 * im_height))\n",
    "_, _, cbar = plot_image_array(ground_truth, x_min, x_max, y_min, y_max, fig=fig, ax=ax[0, 0])\n",
    "ax[0, 0].set_title(\"Ground Truth\")\n",
    "fig.colorbar(cbar, ax=ax[0, 0])\n",
    "_, _, cbar = plot_image_array(noisy, x_min, x_max, y_min, y_max, fig=fig, ax=ax[0, 1])\n",
    "ax[0, 1].set_title(\"Noisy\")\n",
    "fig.colorbar(cbar, ax=ax[0, 1])\n",
    "_, _, cbar = plot_image_array(U_TV_gauge.sum(-1), x_min, x_max, y_min, y_max, clip=clip, fig=fig, ax=ax[1, 0])\n",
    "ax[1, 0].set_title(\"Denoised\")\n",
    "fig.colorbar(cbar, ax=ax[1, 0])\n",
    "_, _, cbar = plot_image_array(ground_truth - np.clip(U_TV_gauge.sum(-1), *clip), x_min, x_max, y_min, y_max, fig=fig, ax=ax[1, 1])\n",
    "fig.colorbar(cbar, ax=ax[1, 1])\n",
    "ax[1, 1].set_title(\"Error\");"
   ]
  },
  {
   "cell_type": "markdown",
   "metadata": {},
   "source": [
    "### NLM"
   ]
  },
  {
   "cell_type": "code",
   "execution_count": null,
   "metadata": {},
   "outputs": [],
   "source": [
    "def nlm_enhancing(noisy, ground_truth, σs, max=clip[1]):\n",
    "    PSNRs = [PSNR(noisy, ground_truth, max=max)]\n",
    "    L2s = [L2(noisy, ground_truth)]\n",
    "    L1s = [L1(noisy, ground_truth)]\n",
    "    for σ in tqdm(σs[1:]):\n",
    "        u = denoise_nl_means(noisy, sigma=σ, h=0.6*σ)\n",
    "        PSNRs.append(PSNR(u, ground_truth, max=max))\n",
    "        L2s.append(L2(u, ground_truth))\n",
    "        L1s.append(L1(u, ground_truth))\n",
    "    return u, np.array(PSNRs), np.array(L2s), np.array(L1s)"
   ]
  },
  {
   "cell_type": "code",
   "execution_count": null,
   "metadata": {},
   "outputs": [],
   "source": [
    "# First solve for long stopping time to find optimum in terms of PSNR.\n",
    "_, PSNRs_nlm, L2s_nlm, L1s_nlm = nlm_enhancing(noisy, ground_truth, σs_nlm)\n",
    "σ_opt_nlm = σs_nlm[PSNRs_nlm.argmax()]\n",
    "# Result at optimal stopping time.\n",
    "u_nlm, _, _, _ = nlm_enhancing(noisy, ground_truth, [0, σ_opt_nlm])"
   ]
  },
  {
   "cell_type": "code",
   "execution_count": null,
   "metadata": {},
   "outputs": [],
   "source": [
    "fig, ax = plt.subplots(1, 3, figsize=(15, 5))\n",
    "ax[0].plot(PSNRs_nlm)\n",
    "ax[1].plot(L2s_nlm)\n",
    "ax[2].plot(L1s_nlm);"
   ]
  },
  {
   "cell_type": "code",
   "execution_count": null,
   "metadata": {},
   "outputs": [],
   "source": [
    "fig, ax = plt.subplots(2, 2, figsize=(2 * im_width, 2 * im_height))\n",
    "_, _, cbar = plot_image_array(ground_truth, x_min, x_max, y_min, y_max, fig=fig, ax=ax[0, 0])\n",
    "ax[0, 0].set_title(\"Ground Truth\")\n",
    "fig.colorbar(cbar, ax=ax[0, 0])\n",
    "_, _, cbar = plot_image_array(noisy, x_min, x_max, y_min, y_max, fig=fig, ax=ax[0, 1])\n",
    "ax[0, 1].set_title(\"Noisy\")\n",
    "fig.colorbar(cbar, ax=ax[0, 1])\n",
    "_, _, cbar = plot_image_array(u_nlm, x_min, x_max, y_min, y_max, clip=clip, fig=fig, ax=ax[1, 0])\n",
    "ax[1, 0].set_title(\"Denoised\")\n",
    "fig.colorbar(cbar, ax=ax[1, 0])\n",
    "_, _, cbar = plot_image_array(ground_truth - np.clip(u_nlm, *clip), x_min, x_max, y_min, y_max, fig=fig, ax=ax[1, 1])\n",
    "fig.colorbar(cbar, ax=ax[1, 1])\n",
    "ax[1, 1].set_title(\"Error\");"
   ]
  },
  {
   "cell_type": "markdown",
   "metadata": {},
   "source": [
    "### BM3D"
   ]
  },
  {
   "cell_type": "code",
   "execution_count": null,
   "metadata": {},
   "outputs": [],
   "source": [
    "def bm3d_enhancing(noisy, ground_truth, σs, max=clip[1]):\n",
    "    PSNRs = [PSNR(noisy, ground_truth, max=max)]\n",
    "    L2s = [L2(noisy, ground_truth)]\n",
    "    L1s = [L1(noisy, ground_truth)]\n",
    "    for σ in tqdm(σs[1:]):\n",
    "        u = bm3d(noisy, σ)\n",
    "        PSNRs.append(PSNR(u, ground_truth, max=max))\n",
    "        L2s.append(L2(u, ground_truth))\n",
    "        L1s.append(L1(u, ground_truth))\n",
    "    return u, np.array(PSNRs), np.array(L2s), np.array(L1s)"
   ]
  },
  {
   "cell_type": "code",
   "execution_count": null,
   "metadata": {},
   "outputs": [],
   "source": [
    "# First solve for long stopping time to find optimum in terms of PSNR.\n",
    "_, PSNRs_bm3d, L2s_bm3d, L1s_bm3d = bm3d_enhancing(noisy, ground_truth, σs_bm3d)\n",
    "σ_opt_bm3d = σs_bm3d[PSNRs_bm3d.argmax()]\n",
    "# Result at optimal stopping time.\n",
    "u_bm3d, _, _, _ = bm3d_enhancing(noisy, ground_truth, [0, σ_opt_nlm])"
   ]
  },
  {
   "cell_type": "code",
   "execution_count": null,
   "metadata": {},
   "outputs": [],
   "source": [
    "fig, ax = plt.subplots(1, 3, figsize=(15, 5))\n",
    "ax[0].plot(PSNRs_bm3d)\n",
    "ax[1].plot(L2s_bm3d)\n",
    "ax[2].plot(L1s_bm3d);"
   ]
  },
  {
   "cell_type": "code",
   "execution_count": null,
   "metadata": {},
   "outputs": [],
   "source": [
    "fig, ax = plt.subplots(2, 2, figsize=(2 * im_width, 2 * im_height))\n",
    "_, _, cbar = plot_image_array(ground_truth, x_min, x_max, y_min, y_max, fig=fig, ax=ax[0, 0])\n",
    "ax[0, 0].set_title(\"Ground Truth\")\n",
    "fig.colorbar(cbar, ax=ax[0, 0])\n",
    "_, _, cbar = plot_image_array(noisy, x_min, x_max, y_min, y_max, fig=fig, ax=ax[0, 1])\n",
    "ax[0, 1].set_title(\"Noisy\")\n",
    "fig.colorbar(cbar, ax=ax[0, 1])\n",
    "_, _, cbar = plot_image_array(u_bm3d, x_min, x_max, y_min, y_max, clip=clip, fig=fig, ax=ax[1, 0])\n",
    "ax[1, 0].set_title(\"Denoised\")\n",
    "fig.colorbar(cbar, ax=ax[1, 0])\n",
    "_, _, cbar = plot_image_array(ground_truth - np.clip(u_bm3d, *clip), x_min, x_max, y_min, y_max, fig=fig, ax=ax[1, 1])\n",
    "fig.colorbar(cbar, ax=ax[1, 1])\n",
    "ax[1, 1].set_title(\"Error\");"
   ]
  },
  {
   "cell_type": "markdown",
   "metadata": {},
   "source": [
    "## Comparison"
   ]
  },
  {
   "cell_type": "markdown",
   "metadata": {},
   "source": [
    "### Qualitative"
   ]
  },
  {
   "cell_type": "code",
   "execution_count": null,
   "metadata": {},
   "outputs": [],
   "source": [
    "fig, ax = plt.subplots(4, 2, figsize=(2 * im_width, 4 * im_height))\n",
    "_, _, cbar = plot_image_array(ground_truth, x_min, x_max, y_min, y_max, fig=fig, ax=ax[0, 0])\n",
    "ax[0, 0].set_title(\"Ground Truth\")\n",
    "fig.colorbar(cbar, ax=ax[0, 0])\n",
    "_, _, cbar = plot_image_array(noisy, x_min, x_max, y_min, y_max, fig=fig, ax=ax[0, 1])\n",
    "ax[0, 1].set_title(\"Noisy\")\n",
    "fig.colorbar(cbar, ax=ax[0, 1])\n",
    "_, _, cbar = plot_image_array(U_TV_gauge.sum(-1), x_min, x_max, y_min, y_max, clip=clip, fig=fig, ax=ax[1, 0])\n",
    "ax[1, 0].set_title(\"Gauge TV Flow\")\n",
    "fig.colorbar(cbar, ax=ax[1, 0])\n",
    "_, _, cbar = plot_image_array(u_DS_R2, x_min, x_max, y_min, y_max, clip=clip, fig=fig, ax=ax[1, 1])\n",
    "fig.colorbar(cbar, ax=ax[1, 1])\n",
    "ax[1, 1].set_title(\"$\\mathbb{R}^2$ DS Filtering\")\n",
    "_, _, cbar = plot_image_array(U_DS_LI.sum(-1), x_min, x_max, y_min, y_max, clip=clip, fig=fig, ax=ax[2, 0])\n",
    "fig.colorbar(cbar, ax=ax[2, 0])\n",
    "ax[2, 0].set_title(\"Left Invariant DS Filtering\")\n",
    "_, _, cbar = plot_image_array(U_DS_gauge.sum(-1), x_min, x_max, y_min, y_max, clip=clip, fig=fig, ax=ax[2, 1])\n",
    "fig.colorbar(cbar, ax=ax[2, 1])\n",
    "ax[2, 1].set_title(\"Gauge DS Filtering\")\n",
    "_, _, cbar = plot_image_array(u_nlm, x_min, x_max, y_min, y_max, clip=clip, fig=fig, ax=ax[3, 0])\n",
    "fig.colorbar(cbar, ax=ax[3, 0])\n",
    "ax[3, 0].set_title(\"Non-Local Means\")\n",
    "_, _, cbar = plot_image_array(u_bm3d, x_min, x_max, y_min, y_max, clip=clip, fig=fig, ax=ax[3, 1])\n",
    "fig.colorbar(cbar, ax=ax[3, 1])\n",
    "ax[3, 1].set_title(\"BM3D\");"
   ]
  },
  {
   "cell_type": "markdown",
   "metadata": {},
   "source": [
    "### Quantitative"
   ]
  },
  {
   "cell_type": "code",
   "execution_count": null,
   "metadata": {},
   "outputs": [],
   "source": [
    "ts_TV_LI = np.linspace(0, t_TV, len(PSNRs_TV_LI)) / t_opt_TV_LI\n",
    "ts_TV_gauge = np.linspace(0, t_TV, len(PSNRs_TV_gauge)) / t_opt_TV_gauge\n",
    "ts_DS_LI = np.linspace(0, t_DS_M2, len(PSNRs_DS_LI)) / t_opt_DS_LI\n",
    "ts_DS_gauge = np.linspace(0, t_DS_M2, len(PSNRs_DS_gauge)) / t_opt_DS_gauge\n",
    "ts_DS_R2 = np.linspace(0, t_DS_R2, len(PSNRs_DS_R2)) / t_opt_DS_R2\n",
    "ts_nlm = σs_nlm / max(σ_step_nlm, σ_opt_nlm)\n",
    "ts_bm3d = σs_bm3d / max(σ_step_bm3d, σ_opt_bm3d)"
   ]
  },
  {
   "cell_type": "code",
   "execution_count": null,
   "metadata": {},
   "outputs": [],
   "source": [
    "fig, ax = plt.subplots(1, 1, figsize=(5, 5))\n",
    "ax.plot(ts_TV_LI, PSNRs_TV_LI, label=\"TR-TV LI\", color=\"red\")\n",
    "ax.plot(ts_TV_gauge, PSNRs_TV_gauge, label=\"TR-TV Gauge\", color=\"red\", linestyle=\"dashed\")\n",
    "ax.plot(ts_DS_LI, PSNRs_DS_LI, label=\"DS LI\", color=\"green\")\n",
    "ax.plot(ts_DS_gauge, PSNRs_DS_gauge, label=\"DS Gauge\", color=\"green\", linestyle=\"dashed\")\n",
    "ax.plot(ts_DS_R2, PSNRs_DS_R2, label=\"DS $\\mathbb{R}^2$\", color=\"blue\")\n",
    "ax.plot(ts_bm3d, PSNRs_bm3d, label=\"BM3D\", color=\"orange\")\n",
    "ax.plot(ts_nlm, PSNRs_nlm, label=\"NLM\", color=\"yellow\")\n",
    "ax.set_title(\"PSNR\")\n",
    "ax.set_xlim(0., 2.)\n",
    "match test_case:\n",
    "    case \"retina\":\n",
    "        ax.set_ylim(21., 26.)\n",
    "    case \"spiral\":\n",
    "        ax.set_ylim(17.5, 21.5)\n",
    "ax.set_xlabel(\"$t / t_{\\\\mathrm{opt}}$\")\n",
    "ax.set_ylabel(\"PSNR (dB)\")\n",
    "ax.legend();"
   ]
  },
  {
   "cell_type": "markdown",
   "metadata": {},
   "source": [
    "### Save Results"
   ]
  },
  {
   "cell_type": "code",
   "execution_count": null,
   "metadata": {},
   "outputs": [],
   "source": [
    "fig, ax = plt.subplots(1, 1)\n",
    "ax.plot(ts_TV_LI, PSNRs_TV_LI, label=\"TR-TV LI\", color=\"red\")\n",
    "ax.plot(ts_TV_gauge, PSNRs_TV_gauge, label=\"TR-TV Gauge\", color=\"red\", linestyle=\"dashed\")\n",
    "ax.plot(ts_DS_LI, PSNRs_DS_LI, label=\"DS LI\", color=\"green\")\n",
    "ax.plot(ts_DS_gauge, PSNRs_DS_gauge, label=\"DS Gauge\", color=\"green\", linestyle=\"dashed\")\n",
    "ax.plot(ts_DS_R2, PSNRs_DS_R2, label=\"DS $\\mathbb{R}^2$\", color=\"blue\")\n",
    "ax.plot(ts_bm3d, PSNRs_bm3d, label=\"BM3D\", color=\"orange\")\n",
    "ax.plot(ts_nlm, PSNRs_nlm, label=\"NLM\", color=\"yellow\")\n",
    "ax.set_title(\"PSNR\")\n",
    "ax.set_xlim(0., 2.)\n",
    "ax.set_xticks([0, 1, 2])\n",
    "match test_case:\n",
    "    case \"retina\":\n",
    "        ax.set_ylim(21., 26.)\n",
    "        ax.set_yticks([22, 24, 26])\n",
    "    case \"spiral\":\n",
    "        ax.set_ylim(17.5, 21.5)\n",
    "        ax.set_yticks([18, 19, 20, 21])\n",
    "ax.legend(ncol=2)\n",
    "fig.savefig(f\"output\\\\{test_case}_{storage_name}_PSNRs.png\", bbox_inches=\"tight\", dpi=200);"
   ]
  },
  {
   "cell_type": "code",
   "execution_count": null,
   "metadata": {},
   "outputs": [],
   "source": [
    "images = []\n",
    "names = []\n",
    "\n",
    "images.append(np.clip(U_DS_LI.sum(-1), *clip))\n",
    "names.append(\"DS_LI\")\n",
    "images.append(np.clip(U_DS_gauge.sum(-1), *clip))\n",
    "names.append(\"DS_gauge\")\n",
    "images.append(np.clip(u_DS_R2, *clip))\n",
    "names.append(\"DS_R2\")\n",
    "images.append(np.clip(U_TV_LI.sum(-1), *clip))\n",
    "names.append(\"TV_LI\")\n",
    "images.append(np.clip(U_TV_gauge.sum(-1), *clip))\n",
    "names.append(\"TV_gauge\")\n",
    "images.append(np.clip(u_nlm, *clip))\n",
    "names.append(\"nlm\")\n",
    "images.append(np.clip(u_bm3d, *clip))\n",
    "names.append(\"bm3d\")"
   ]
  },
  {
   "cell_type": "code",
   "execution_count": null,
   "metadata": {},
   "outputs": [],
   "source": [
    "for image, name in zip(images, names):\n",
    "    Image.fromarray(\n",
    "        align_to_standard_array_axis_scalar_field(image).astype(np.uint8)\n",
    "    ).save(f\"output\\\\{test_case}_{storage_name}_{name}.png\")"
   ]
  }
 ],
 "metadata": {
  "kernelspec": {
   "display_name": "dsfilterexplore",
   "language": "python",
   "name": "python3"
  },
  "language_info": {
   "codemirror_mode": {
    "name": "ipython",
    "version": 3
   },
   "file_extension": ".py",
   "mimetype": "text/x-python",
   "name": "python",
   "nbconvert_exporter": "python",
   "pygments_lexer": "ipython3",
   "version": "3.10.13"
  }
 },
 "nbformat": 4,
 "nbformat_minor": 2
}
