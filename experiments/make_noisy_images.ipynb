{
 "cells": [
  {
   "cell_type": "markdown",
   "metadata": {},
   "source": [
    "# Make Noisy Images\n",
    "In this notebook we corrupt images with correlated white noise to be used in [\"image_enhancement.ipynb\"](.\\\\image_enhancement.ipynb).\n",
    "\n",
    "In the paper [(Diffusion-Shock Filtering on the Space of Positions and Orientations)](), we denoise two images corrupted with correlated noise $K_\\rho * n_\\sigma$, where $K_\\rho$ is a Gaussian with standard deviation $\\rho$ and $n_\\sigma$ is white noise with intensity $\\sigma$, namely\n",
    "* [Retina](.\\\\data\\\\retina.tif) (Fig. 4), corrupted with $\\sigma = 127.5$, $\\rho = 2$, and\n",
    "* [Spiral](.\\\\data\\\\spiral.tif) (Fig. 5), corrupted with $\\sigma = 255$, $\\rho = 2$."
   ]
  },
  {
   "cell_type": "code",
   "execution_count": null,
   "metadata": {},
   "outputs": [],
   "source": [
    "import numpy as np\n",
    "import scipy as sp\n",
    "import matplotlib.pyplot as plt\n",
    "from PIL import Image"
   ]
  },
  {
   "cell_type": "code",
   "execution_count": null,
   "metadata": {},
   "outputs": [],
   "source": [
    "image_folder = \".\\\\data\"\n",
    "save_image = True"
   ]
  },
  {
   "cell_type": "code",
   "execution_count": null,
   "metadata": {},
   "outputs": [],
   "source": [
    "# \"retina\" \"spiral\"\n",
    "test_case = \"spiral\"\n",
    "\n",
    "ground_truth = np.array(Image.open(f\"{image_folder}\\\\{test_case}.tif\").convert(\"L\")).astype(np.float64)"
   ]
  },
  {
   "cell_type": "code",
   "execution_count": null,
   "metadata": {},
   "outputs": [],
   "source": [
    "σ = 255. * 0.5  # Intensity\n",
    "ρ = 2.          # Correlation\n",
    "\n",
    "np.random.seed(54321)\n",
    "noise = σ * np.random.randn(*ground_truth.shape)\n",
    "noise = sp.ndimage.gaussian_filter(noise, ρ)\n",
    "\n",
    "noisy_image = np.clip(ground_truth + noise, 0., 255.)"
   ]
  },
  {
   "cell_type": "code",
   "execution_count": null,
   "metadata": {},
   "outputs": [],
   "source": [
    "fig, ax = plt.subplots(1, 1, figsize=(5, 5))\n",
    "cbar = ax.imshow(ground_truth, cmap=\"gray\")\n",
    "fig.colorbar(cbar, ax=ax);"
   ]
  },
  {
   "cell_type": "code",
   "execution_count": null,
   "metadata": {},
   "outputs": [],
   "source": [
    "fig, ax = plt.subplots(1, 2, figsize=(10, 5))\n",
    "cbar = ax[0].imshow(noise, cmap=\"gray\")\n",
    "fig.colorbar(cbar, ax=ax[0])\n",
    "cbar = ax[1].imshow(noisy_image, cmap=\"gray\")\n",
    "fig.colorbar(cbar, ax=ax[1]);"
   ]
  },
  {
   "cell_type": "code",
   "execution_count": null,
   "metadata": {},
   "outputs": [],
   "source": [
    "fig, ax = plt.subplots(1, 1, figsize=(5, 5))\n",
    "ax.imshow(noisy_image, cmap=\"gray\");"
   ]
  },
  {
   "cell_type": "code",
   "execution_count": null,
   "metadata": {},
   "outputs": [],
   "source": [
    "filename = f\"{image_folder}\\\\{test_case}_{σ:.0f}\"\n",
    "if ρ > 0:\n",
    "    filename += f\"_{ρ:.0f}\"\n",
    "filename += \".tif\"\n",
    "filename"
   ]
  },
  {
   "cell_type": "code",
   "execution_count": null,
   "metadata": {},
   "outputs": [],
   "source": [
    "if save_image:\n",
    "    Image.fromarray(noisy_image).save(filename, format=\"TIFF\")"
   ]
  },
  {
   "cell_type": "code",
   "execution_count": null,
   "metadata": {},
   "outputs": [],
   "source": []
  }
 ],
 "metadata": {
  "kernelspec": {
   "display_name": "dsfilter",
   "language": "python",
   "name": "python3"
  },
  "language_info": {
   "codemirror_mode": {
    "name": "ipython",
    "version": 3
   },
   "file_extension": ".py",
   "mimetype": "text/x-python",
   "name": "python",
   "nbconvert_exporter": "python",
   "pygments_lexer": "ipython3",
   "version": "3.10.15"
  }
 },
 "nbformat": 4,
 "nbformat_minor": 2
}
