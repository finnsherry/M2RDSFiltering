{
 "cells": [
  {
   "cell_type": "markdown",
   "metadata": {},
   "source": [
    "# Inpainting\n",
    "In this notebook we use left-invariant Regularised Diffusion-Shock (RDS) filtering on $\\mathbb{M}_2$ and RDS on $\\mathbb{R}^2$ to inpaint, as in Section 6.2 of [\"Diffusion-Shock Filtering on the Space of Positions and Orientations\"]()."
   ]
  },
  {
   "cell_type": "code",
   "execution_count": null,
   "metadata": {},
   "outputs": [],
   "source": [
    "import taichi as ti\n",
    "ti.init(arch=ti.gpu, debug=False, device_memory_GB=3.5)\n",
    "import numpy as np\n",
    "import scipy as sp\n",
    "from PIL import Image\n",
    "from dsfilter import (\n",
    "    DS_inpainting_LI,\n",
    "    DS_inpainting_R2\n",
    ")\n",
    "from dsfilter.M2.utils import (\n",
    "    coordinate_array_to_real,\n",
    "    clean_mask_boundaries\n",
    ")\n",
    "from dsfilter.orientationscore import (\n",
    "    cakewavelet_stack,\n",
    "    wavelet_transform\n",
    ")\n",
    "from dsfilter.visualisations import plot_image_array\n",
    "import matplotlib.pyplot as plt"
   ]
  },
  {
   "cell_type": "markdown",
   "metadata": {},
   "source": [
    "## Test Cases\n",
    "In the paper, we inpaint a grey image with a grid of black and white lines (Fig. 6). We can also inpaint other images."
   ]
  },
  {
   "cell_type": "code",
   "execution_count": null,
   "metadata": {},
   "outputs": [],
   "source": [
    "# \"black_and_white_on_grey\" \"black_on_white\" \"diagonal\" \"cross\"\n",
    "test_case = \"black_and_white_on_grey\""
   ]
  },
  {
   "cell_type": "markdown",
   "metadata": {},
   "source": [
    "### Setup"
   ]
  },
  {
   "cell_type": "code",
   "execution_count": null,
   "metadata": {},
   "outputs": [],
   "source": [
    "dim_I, dim_J, dim_K = 256, 256, 16\n",
    "u_ground_truth = np.ones((dim_I, dim_J)) * 255.\n",
    "xs, ys = np.meshgrid(np.linspace(-1, 1, dim_I), np.linspace(-1, 1, dim_J))"
   ]
  },
  {
   "cell_type": "code",
   "execution_count": null,
   "metadata": {},
   "outputs": [],
   "source": [
    "match test_case:\n",
    "    case \"black_on_white\": # Grid of lines (black)\n",
    "        N_lines = 4\n",
    "        offset = dim_I // (N_lines + 1)\n",
    "        for k in range(N_lines):\n",
    "            centre = (k + 1) * offset\n",
    "            u_ground_truth[:, (centre-2):(centre+3)] = 0.\n",
    "            u_ground_truth[(centre-2):(centre+3), :] = 0.\n",
    "\n",
    "        l = 0.4\n",
    "        mask = (xs**2 < l) * (ys**2 < l)\n",
    "\n",
    "        u = u_ground_truth.copy()\n",
    "        u[mask] = 255.\n",
    "    case \"black_and_white_on_grey\": # Grid of lines (alternating black and white)\n",
    "        u_ground_truth *= 0.5\n",
    "        N_lines = 4 # 7\n",
    "        offset = dim_I // (N_lines + 1)\n",
    "        colour = 0. # black\n",
    "        for k in range(N_lines):\n",
    "            centre = (k + 1) * offset\n",
    "            u_ground_truth[:, (centre-2):(centre+3)] = 255. - colour\n",
    "            u_ground_truth[(centre-2):(centre+3), :] = colour\n",
    "            colour = 255. - colour\n",
    "        u_ground_truth = sp.ndimage.gaussian_filter(u_ground_truth, 1)\n",
    "\n",
    "        l = 0.4\n",
    "        mask = (xs**2 < l) * (ys**2 < l)\n",
    "\n",
    "        u = u_ground_truth.copy()\n",
    "        u[mask] = 0.5 * 255.\n",
    "    case \"diagonal\": # Lines with diagonal (black)\n",
    "        N_lines = 4\n",
    "        offset = dim_I // (N_lines + 1)\n",
    "        for k in range(N_lines):\n",
    "            centre = (k + 1) * offset\n",
    "            u_ground_truth[:, (centre-2):(centre+3)] = 0.\n",
    "\n",
    "        diagonal = (np.abs(xs - ys) < 0.03)\n",
    "        u_ground_truth[diagonal] = 0.\n",
    "        l = 0.4\n",
    "        mask = (xs**2 < l) * (ys**2 < l)\n",
    "\n",
    "        u = u_ground_truth.copy()\n",
    "        u[mask] = 255.\n",
    "\n",
    "        dim_K = 32 # We need more orientations to have sufficient distance between the horizontal and diagonal lines.\n",
    "    case \"cross\": # Chunky cross\n",
    "        vertical = (-0.2 < xs) * (xs < 0.2)\n",
    "        horizontal = (-0.2 < ys) * (ys < 0.2)\n",
    "        u_ground_truth = np.zeros((dim_I, dim_J))\n",
    "        u_ground_truth[vertical + horizontal] = 1. * 255.\n",
    "\n",
    "        mask = (-0.3 < xs) * (xs < 0.3) * (-0.3 < ys) * (ys < 0.3)\n",
    "        u = u_ground_truth.copy()\n",
    "        u[mask] = 0.\n",
    "\n",
    "u = sp.ndimage.gaussian_filter(u, 1.) # Smooth for well-posed lifting.\n",
    "clip = (0., 255.)\n",
    "\n",
    "mask_orig = 1 - mask.astype(int)\n",
    "mask = sp.ndimage.binary_erosion(mask_orig, iterations=10, border_value=1).astype(int) # Deal with boundary artefacts.\n",
    "\n",
    "Is, Js, Ks = np.indices((dim_I, dim_J, dim_K))\n",
    "x_min, x_max = 0., dim_I - 1.\n",
    "y_min, y_max = 0., dim_J - 1.\n",
    "θ_min, θ_max = 0., 2 * np.pi\n",
    "dxy = (x_max - x_min) / (dim_I - 1)\n",
    "dθ = (θ_max - θ_min) / dim_K\n",
    "xs, ys, θs = coordinate_array_to_real(Is, Js, Ks, x_min, y_min, θ_min, dxy, dθ)"
   ]
  },
  {
   "cell_type": "code",
   "execution_count": null,
   "metadata": {},
   "outputs": [],
   "source": [
    "fig, ax = plt.subplots(1, 2, figsize=(12, 5))\n",
    "_, _, cbar = plot_image_array(u_ground_truth, x_min, x_max, y_min, y_max, cmap=\"gray\", fig=fig, ax=ax[0])\n",
    "ax[0].set_title(\"Ground Truth\")\n",
    "fig.colorbar(cbar, ax=ax[0])\n",
    "_, _, cbar = plot_image_array(u, x_min, x_max, y_min, y_max, cmap=\"gray\", fig=fig, ax=ax[1])\n",
    "ax[1].set_title(\"Masked\")\n",
    "fig.colorbar(cbar, ax=ax[1]);"
   ]
  },
  {
   "cell_type": "markdown",
   "metadata": {},
   "source": [
    "### Inpainting Parameters"
   ]
  },
  {
   "cell_type": "code",
   "execution_count": null,
   "metadata": {},
   "outputs": [],
   "source": [
    "G_D_inv = 1.8 * np.array((1., 0.1, 0.0))\n",
    "G_S_inv = np.array((1., 1., 0.0))\n",
    "# Internal regularisation for switching between dilation and erosion.\n",
    "σ_s, σ_o = 2., 0.6\n",
    "# External regularisation for switching between dilation and erosion.\n",
    "ρ_s, ρ_o = 1., 0.6\n",
    "# Internal and external regularisation of gradient for switching between diffusion and shock.\n",
    "ν_s, ν_o = 2.5, 0.6\n",
    "λ = 0.35 # Contrast parameter for switching between diffusion and shock.\n",
    "ε = 0.1 # Regularisation parameter for signum.\n",
    "T_M2 = 2500.\n",
    "\n",
    "σ_R2 = 2.5\n",
    "ρ_R2 = 1.6 * σ_R2\n",
    "ν_R2 = 1.6 * σ_R2\n",
    "λ_R2 = 1.\n",
    "ε_R2 = 0.15 * λ_R2\n",
    "\n",
    "T_R2 = 500."
   ]
  },
  {
   "cell_type": "markdown",
   "metadata": {},
   "source": [
    "## Orientation Score"
   ]
  },
  {
   "cell_type": "code",
   "execution_count": null,
   "metadata": {},
   "outputs": [],
   "source": [
    "cws = cakewavelet_stack(dim_I, dim_K, Gaussian_σ=dim_I/8)\n",
    "U = wavelet_transform(u, cws).real\n",
    "U = np.transpose(U, axes=(1, 2, 0)) # x, y, θ\n",
    "Mask = np.transpose(np.array([mask for _ in range(dim_K)]), axes=(1, 2, 0)) # x, y, θ"
   ]
  },
  {
   "cell_type": "code",
   "execution_count": null,
   "metadata": {},
   "outputs": [],
   "source": [
    "K = 0\n",
    "print(θs[0, 0, K])\n",
    "fig, ax = plt.subplots(2, 3, figsize=(18, 10))\n",
    "_, _, cbar = plot_image_array(U[..., K] * mask, x_min, x_max, y_min, y_max, cmap=\"gray\", fig=fig, ax=ax[0, 0])\n",
    "ax[0, 0].set_title(f\"$U(\\cdot, {K*dθ:.2f})$\")\n",
    "fig.colorbar(cbar, ax=ax[0, 0])\n",
    "_, _, cbar = plot_image_array(U[..., K + 2] * mask, x_min, x_max, y_min, y_max, cmap=\"gray\", fig=fig, ax=ax[0, 1])\n",
    "ax[0, 1].set_title(f\"$U(\\cdot, {(K + 2)*dθ:.2f})$\")\n",
    "fig.colorbar(cbar, ax=ax[0, 1])\n",
    "_, _, cbar = plot_image_array(U[..., K + 4] * mask, x_min, x_max, y_min, y_max, cmap=\"gray\", fig=fig, ax=ax[0, 2])\n",
    "ax[0, 2].set_title(f\"$U(\\cdot, {(K + 4)*dθ:.2f})$\")\n",
    "fig.colorbar(cbar, ax=ax[0, 2])\n",
    "_, _, cbar = plot_image_array(u, x_min, x_max, y_min, y_max, cmap=\"gray\", fig=fig, ax=ax[1, 0])\n",
    "ax[1, 0].set_title(\"$u$\")\n",
    "fig.colorbar(cbar, ax=ax[1, 0])\n",
    "_, _, cbar = plot_image_array(U.sum(-1), x_min, x_max, y_min, y_max, cmap=\"gray\", fig=fig, ax=ax[1, 1])\n",
    "ax[1, 1].set_title(\"Reconstruction\")\n",
    "fig.colorbar(cbar, ax=ax[1, 1])\n",
    "_, _, cbar = plot_image_array(u - U.sum(-1), x_min, x_max, y_min, y_max, cmap=\"gray\", fig=fig, ax=ax[1, 2])\n",
    "ax[1, 2].set_title(\"Reconstruction error\")\n",
    "fig.colorbar(cbar, ax=ax[1, 2]);"
   ]
  },
  {
   "cell_type": "markdown",
   "metadata": {},
   "source": [
    "### Preprocess\n",
    "The mask causes a large step edge in the image, which will get picked up in the orientation score. Therefore, we cannot trust the image data near the boundary of the mask. For this reason, we dilate the mask: the image gets inpainted using data that is sufficiently far from the boundary to have reliable orientation information."
   ]
  },
  {
   "cell_type": "code",
   "execution_count": null,
   "metadata": {},
   "outputs": [],
   "source": [
    "U_preprocessed = clean_mask_boundaries(U, Mask)"
   ]
  },
  {
   "cell_type": "markdown",
   "metadata": {},
   "source": [
    "## $\\mathbb{R}^2$ RDS Inpainting"
   ]
  },
  {
   "cell_type": "code",
   "execution_count": null,
   "metadata": {},
   "outputs": [],
   "source": [
    "u_R2 = DS_inpainting_R2(u, mask, T_R2, σ_R2, ρ_R2, ν_R2, λ_R2, ε=ε_R2, dxy=dxy)"
   ]
  },
  {
   "cell_type": "code",
   "execution_count": null,
   "metadata": {},
   "outputs": [],
   "source": [
    "fig, ax, cbar = plot_image_array(u_R2, x_min, x_max, y_min, y_max, clip=clip, cmap=\"gray\", figsize=(6, 5))\n",
    "ax.set_title(\"Inpainted with $\\mathbb{R}^2$ RDS\")\n",
    "fig.colorbar(cbar, ax=ax);"
   ]
  },
  {
   "cell_type": "markdown",
   "metadata": {},
   "source": [
    "## $\\mathbb{M}_2$ RDS Inpainting"
   ]
  },
  {
   "cell_type": "code",
   "execution_count": null,
   "metadata": {},
   "outputs": [],
   "source": [
    "U_M2 = DS_inpainting_LI(U_preprocessed, Mask, θs, T_M2, G_D_inv, G_S_inv, σ_s, σ_o, ρ_s, ρ_o, ν_s, ν_o, λ, ε=ε, dxy=dxy)\n",
    "u_M2 = U_M2.sum(-1)"
   ]
  },
  {
   "cell_type": "code",
   "execution_count": null,
   "metadata": {},
   "outputs": [],
   "source": [
    "fig, ax, cbar = plot_image_array(u_M2, x_min, x_max, y_min, y_max, clip=clip, cmap=\"gray\", figsize=(6, 5))\n",
    "ax.set_title(\"Inpainted with $\\mathbb{M}_2$ RDS\")\n",
    "fig.colorbar(cbar, ax=ax);"
   ]
  },
  {
   "cell_type": "code",
   "execution_count": null,
   "metadata": {},
   "outputs": [],
   "source": [
    "fig, ax, cbar = plot_image_array(u_M2, x_min, x_max, y_min, y_max, clip=clip, cmap=\"gray\", figsize=(6, 5))\n",
    "ax.set_title(\"Inpainted with $\\mathbb{M}_2$ RDS\")\n",
    "fig.colorbar(cbar, ax=ax);"
   ]
  },
  {
   "cell_type": "markdown",
   "metadata": {},
   "source": [
    "## Comparison"
   ]
  },
  {
   "cell_type": "code",
   "execution_count": null,
   "metadata": {},
   "outputs": [],
   "source": [
    "fig, ax = plt.subplots(2, 2, figsize=(10, 10))\n",
    "ax[0, 0].imshow(u_ground_truth, vmin=clip[0], vmax=clip[1], cmap=\"gray\")\n",
    "ax[0, 0].set_title(\"Ground Truth\")\n",
    "ax[0, 0].set_xticks([])\n",
    "ax[0, 0].set_yticks([])\n",
    "ax[0, 0].set_frame_on(False)\n",
    "ax[0, 1].imshow(u, vmin=clip[0], vmax=clip[1], cmap=\"gray\")\n",
    "ax[0, 1].set_title(\"Masked\")\n",
    "ax[0, 1].set_xticks([])\n",
    "ax[0, 1].set_yticks([])\n",
    "ax[0, 1].set_frame_on(False)\n",
    "ax[1, 0].imshow(u_R2, vmin=clip[0], vmax=clip[1], cmap=\"gray\")\n",
    "ax[1, 0].set_title(\"$\\mathbb{R}^2$\")\n",
    "ax[1, 0].set_xticks([])\n",
    "ax[1, 0].set_yticks([])\n",
    "ax[1, 0].set_frame_on(False)\n",
    "ax[1, 1].imshow(u_M2, vmin=clip[0], vmax=clip[1], cmap=\"gray\")\n",
    "ax[1, 1].set_title(\"$\\mathbb{M}_2$\")\n",
    "ax[1, 1].set_xticks([])\n",
    "ax[1, 1].set_yticks([])\n",
    "ax[1, 1].set_frame_on(False)"
   ]
  },
  {
   "cell_type": "markdown",
   "metadata": {},
   "source": [
    "## Save Results"
   ]
  },
  {
   "cell_type": "code",
   "execution_count": null,
   "metadata": {},
   "outputs": [],
   "source": [
    "images = []\n",
    "names = []\n",
    "\n",
    "images.append(np.clip(u_R2, *clip))\n",
    "names.append(\"R2\")\n",
    "images.append(np.clip(u_M2, *clip))\n",
    "names.append(\"M2\")"
   ]
  },
  {
   "cell_type": "code",
   "execution_count": null,
   "metadata": {},
   "outputs": [],
   "source": [
    "for image, name in zip(images, names):\n",
    "    Image.fromarray(\n",
    "        image.astype(np.uint8)\n",
    "    ).save(f\"output\\\\{test_case}_{name}.png\")"
   ]
  }
 ],
 "metadata": {
  "kernelspec": {
   "display_name": "dsfilter",
   "language": "python",
   "name": "python3"
  },
  "language_info": {
   "codemirror_mode": {
    "name": "ipython",
    "version": 3
   },
   "file_extension": ".py",
   "mimetype": "text/x-python",
   "name": "python",
   "nbconvert_exporter": "python",
   "pygments_lexer": "ipython3",
   "version": "3.10.15"
  }
 },
 "nbformat": 4,
 "nbformat_minor": 2
}
